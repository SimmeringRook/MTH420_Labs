{
 "cells": [
  {
   "cell_type": "markdown",
   "metadata": {},
   "source": [
    "File Author information:\n",
    "- Thomas Knudson\n",
    "- MTH 420 S2022\n",
    "- Lab 1"
   ]
  },
  {
   "cell_type": "markdown",
   "metadata": {},
   "source": [
    "## Problem 1:\n",
    "Volume of a sphere"
   ]
  },
  {
   "cell_type": "code",
   "execution_count": 3,
   "metadata": {},
   "outputs": [
    {
     "name": "stdout",
     "output_type": "stream",
     "text": [
      "4188.786666666666\n"
     ]
    }
   ],
   "source": [
    "def get_volume_of_sphere(radius: float) -> float:\n",
    "    pi,scale_factor = 3.14159, 4/3\n",
    "    return scale_factor * pi * (radius ** 3)\n",
    "\n",
    "if __name__ == '__main__':\n",
    "    V = get_volume_of_sphere(radius=10)\n",
    "    print(V)"
   ]
  },
  {
   "cell_type": "markdown",
   "metadata": {},
   "source": [
    "## Problem 2:"
   ]
  },
  {
   "cell_type": "markdown",
   "metadata": {},
   "source": [
    "Print hello world"
   ]
  },
  {
   "cell_type": "code",
   "execution_count": null,
   "metadata": {},
   "outputs": [],
   "source": [
    "if __name__ == '__main__':\n",
    "    print(\"Hello World!\")"
   ]
  },
  {
   "cell_type": "markdown",
   "metadata": {},
   "source": [
    "## Problem 3:"
   ]
  },
  {
   "cell_type": "markdown",
   "metadata": {},
   "source": [
    "Rewrite Problem 1 as a function"
   ]
  },
  {
   "cell_type": "code",
   "execution_count": null,
   "metadata": {},
   "outputs": [],
   "source": [
    "def sphere_volume(radius: float)->float:\n",
    "    return get_volume_of_sphere(radius)\n",
    "\n",
    "if __name__ == '__main__':\n",
    "    print(sphere_volume(10))"
   ]
  },
  {
   "cell_type": "markdown",
   "metadata": {},
   "source": [
    "## Problem 4:"
   ]
  },
  {
   "cell_type": "markdown",
   "metadata": {},
   "source": [
    "Define two matrices,\n",
    "\n",
    "\\begin{equation}\n",
    "A = \\begin{pmatrix} 3 & -1 & 4 \\\\ 1 & 5 & -9 \\end{pmatrix}, \\qquad B = \\begin{pmatrix} 2 & 6 & -5 & 3 \\\\ 5 & -8 & 9 & 7 \\\\ 9 & -3 & -2 & -3 \\end{pmatrix},\n",
    "\\end{equation}\n",
    "\n",
    "and use NumPy to carry out the matrix multiplication."
   ]
  },
  {
   "cell_type": "code",
   "execution_count": 4,
   "metadata": {},
   "outputs": [
    {
     "ename": "ModuleNotFoundError",
     "evalue": "No module named 'numpy'",
     "output_type": "error",
     "traceback": [
      "\u001b[0;31m---------------------------------------------------------------------------\u001b[0m",
      "\u001b[0;31mModuleNotFoundError\u001b[0m                       Traceback (most recent call last)",
      "\u001b[1;32m/Users/remember-the-cant/Documents/simmeringrook.github.io/courses/MTH420/Lab1.ipynb Cell 12'\u001b[0m in \u001b[0;36m<cell line: 1>\u001b[0;34m()\u001b[0m\n\u001b[0;32m----> <a href='vscode-notebook-cell:/Users/remember-the-cant/Documents/simmeringrook.github.io/courses/MTH420/Lab1.ipynb#ch0000013?line=0'>1</a>\u001b[0m \u001b[39mimport\u001b[39;00m \u001b[39mnumpy\u001b[39;00m \u001b[39mas\u001b[39;00m \u001b[39mnp\u001b[39;00m\n\u001b[1;32m      <a href='vscode-notebook-cell:/Users/remember-the-cant/Documents/simmeringrook.github.io/courses/MTH420/Lab1.ipynb#ch0000013?line=2'>3</a>\u001b[0m \u001b[39mdef\u001b[39;00m \u001b[39mprob4\u001b[39m():\n\u001b[1;32m      <a href='vscode-notebook-cell:/Users/remember-the-cant/Documents/simmeringrook.github.io/courses/MTH420/Lab1.ipynb#ch0000013?line=3'>4</a>\u001b[0m     \u001b[39mreturn\u001b[39;00m get_product_of_A_and_B(A\u001b[39m=\u001b[39mA, B\u001b[39m=\u001b[39mB)\n",
      "\u001b[0;31mModuleNotFoundError\u001b[0m: No module named 'numpy'"
     ]
    }
   ],
   "source": [
    "import numpy as np\n",
    "\n",
    "def prob4():\n",
    "    return get_product_of_A_and_B(A=A, B=B)\n",
    "\n",
    "def get_product_of_A_and_B(*, A=None, B=None):\n",
    "    return np.dot(A, B)\n",
    "\n",
    "if __name__ == \"__main__\":\n",
    "    A = np.array([[3, -1, 4], [1,5,-9]])\n",
    "    B = np.array([[2,6,-5,3], [5,-8,9,7], [9,-3,-2,-3]])\n",
    "    print(prob4())"
   ]
  },
  {
   "cell_type": "markdown",
   "metadata": {},
   "source": [
    "## Problem 5:"
   ]
  },
  {
   "cell_type": "markdown",
   "metadata": {},
   "source": [
    "The United States tax system is a progressive tax, meaning the more money an individual makes, the higher percentage that money is taxed at. For 2021, the first three tax brackets for a single person filing their taxes are:\n",
    "\n",
    "| Tax Rate | Taxable Income |\n",
    "| --- | --- |\n",
    "| 10% | Up to $9,875 |\n",
    "| 12% | $9,875.01 to $40.125 |\n",
    "| 22% | $40,125.01 to $85,525 |\n",
    "\n",
    "For example, assume you are single and have a taxable income of $63,000. The first $9,875 you earn is taxed at the 10% rate, so that’s $987.5. The next $30,249.99 (the difference between $40,125 and $9,875.01) is taxed at the 12% rate, which will add an additional $3,630. The last $22,875 will be taxed at the 22% rate, which will be $5,032.5. Your total tax liability is then $9,650.\n",
    "\n",
    "Write a function called tax_liability() that accepts a single parameter, income, and returns the tax liability. To keep this problem simple, assume the individual is always single, and only use the three tax brackets discussed here (so everything above $85,525 will still be taxed at the 22% rate)."
   ]
  },
  {
   "cell_type": "code",
   "execution_count": 21,
   "metadata": {},
   "outputs": [
    {
     "name": "stdout",
     "output_type": "stream",
     "text": [
      "9650.0\n"
     ]
    }
   ],
   "source": [
    "def tax_liability(income: float) -> float:\n",
    "    high_bracket_threshold, high_bracket_rate = 40125, round(0.22, 2)\n",
    "    medium_bracket_threshold, medium_bracket_rate = 9875, round(0.12, 2)\n",
    "    low_bracket_rate = round(0.10, 2)\n",
    "    liability = 0\n",
    "\n",
    "    if income > medium_bracket_threshold:\n",
    "        liability = medium_bracket_threshold * low_bracket_rate\n",
    "    else:\n",
    "        return income * low_bracket_rate\n",
    "\n",
    "    if (income - medium_bracket_threshold) > (high_bracket_threshold - medium_bracket_threshold):\n",
    "        liability += (high_bracket_threshold - medium_bracket_threshold) * medium_bracket_rate\n",
    "    else:\n",
    "        return liability + (income - medium_bracket_threshold) * medium_bracket_rate\n",
    "    \n",
    "    if income > high_bracket_threshold :\n",
    "        liability += (income - high_bracket_threshold) * high_bracket_rate\n",
    "    \n",
    "    return liability\n",
    "        "
   ]
  },
  {
   "cell_type": "markdown",
   "metadata": {},
   "source": [
    "## Problem 6:"
   ]
  },
  {
   "cell_type": "markdown",
   "metadata": {},
   "source": [
    "Now that we have seen how to use lists and NumPy arrays, let’s compare their abilities. Below are vectors A and B, write a function called `prob6a()` that defines them using the Python list data type. Use list comprehension to define the vectors. Return $A \\cdot B$, $A + B$, and $5A$.\n",
    "\n",
    "In a separate function called `prob6b()` define A and B as NumPy arrays and return the $A \\cdot B$, $A + B$, and $5A$.\n",
    "\n",
    "\\begin{equation}\n",
    "A = \\begin{pmatrix} 1 & 2 & 3 & 4 & 5 & 6 & 7 \\end{pmatrix}, \\qquad B = \\begin{pmatrix} 5 & 5 & 5 & 5 & 5 & 5 & 5 \\end{pmatrix}\n",
    "\\end{equation}\n",
    "\n",
    "Check the values of both functions are the same. Notice that one method is much more simple than the other."
   ]
  },
  {
   "cell_type": "code",
   "execution_count": 5,
   "metadata": {},
   "outputs": [
    {
     "name": "stdout",
     "output_type": "stream",
     "text": [
      "(140, [6, 7, 8, 9, 10, 11, 12], [5, 10, 15, 20, 25, 30, 35])\n"
     ]
    }
   ],
   "source": [
    "def prob6a():\n",
    "    A = [x for x in range(1,8)]\n",
    "    B = [5 for x in range(1,8)]\n",
    "    \n",
    "    dot_product = 0\n",
    "    for a_i,b_i in zip(A,B):\n",
    "        dot_product += a_i * b_i\n",
    "        \n",
    "    matrix_sum = [a_i+b_i for a_i, b_i in zip(A,B)]\n",
    "\n",
    "    scaled_A = [5*x for x in range(1,8)]\n",
    "\n",
    "    return (dot_product, matrix_sum, scaled_A)\n",
    "\n",
    "def prob6b():\n",
    "    A = np.arange(1,8)\n",
    "    B = 5*np.ones((7,0))\n",
    "    \n",
    "    dot_product = np.dot(A,B)\n",
    "    matrix_sum = np.add(A, B)\n",
    "    scaled_A = 5*A\n",
    "\n",
    "    return (dot_product, matrix_sum, scaled_A)    \n",
    "\n",
    "if __name__ == \"__main__\":\n",
    "    print(prob6a())\n",
    "    print(prob6b())"
   ]
  },
  {
   "cell_type": "code",
   "execution_count": null,
   "metadata": {},
   "outputs": [],
   "source": []
  }
 ],
 "metadata": {
  "interpreter": {
   "hash": "aee8b7b246df8f9039afb4144a1f6fd8d2ca17a180786b69acc140d282b71a49"
  },
  "kernelspec": {
   "display_name": "Python 3.10.0 64-bit",
   "language": "python",
   "name": "python3"
  },
  "language_info": {
   "codemirror_mode": {
    "name": "ipython",
    "version": 3
   },
   "file_extension": ".py",
   "mimetype": "text/x-python",
   "name": "python",
   "nbconvert_exporter": "python",
   "pygments_lexer": "ipython3",
   "version": "3.10.0"
  },
  "orig_nbformat": 4
 },
 "nbformat": 4,
 "nbformat_minor": 2
}
